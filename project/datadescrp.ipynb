{
  "nbformat": 4,
  "nbformat_minor": 0,
  "metadata": {
    "colab": {
      "provenance": [],
      "authorship_tag": "ABX9TyO2AXW2eJRLevTbTBfzfddx",
      "include_colab_link": true
    },
    "kernelspec": {
      "name": "python3",
      "display_name": "Python 3"
    },
    "language_info": {
      "name": "python"
    }
  },
  "cells": [
    {
      "cell_type": "markdown",
      "metadata": {
        "id": "view-in-github",
        "colab_type": "text"
      },
      "source": [
        "<a href=\"https://colab.research.google.com/github/axellebersier/2022_ML_EES/blob/main/project/datadescrp.ipynb\" target=\"_parent\"><img src=\"https://colab.research.google.com/assets/colab-badge.svg\" alt=\"Open In Colab\"/></a>"
      ]
    },
    {
      "cell_type": "markdown",
      "source": [
        "##**Project Machine Learning : Feature selection for population dynamic analysis**\n"
      ],
      "metadata": {
        "id": "JhZ_GjKjv6KP"
      }
    },
    {
      "cell_type": "markdown",
      "source": [
        "##Problematic"
      ],
      "metadata": {
        "id": "JcOd7ImZ6r1N"
      }
    },
    {
      "cell_type": "markdown",
      "source": [
        "What are the important features to consider to analyze the population dynamic of Switzerland ? "
      ],
      "metadata": {
        "id": "7i9JnND-6vCt"
      }
    },
    {
      "cell_type": "markdown",
      "source": [
        "##Data description"
      ],
      "metadata": {
        "id": "nqTS-R4oxXG2"
      }
    },
    {
      "cell_type": "markdown",
      "source": [
        "Set up and load the data"
      ],
      "metadata": {
        "id": "Y5_j42r381-6"
      }
    },
    {
      "cell_type": "code",
      "source": [
        "# Python ≥3.5 is required\n",
        "import sys\n",
        "assert sys.version_info >= (3, 5)\n",
        "\n",
        "# Scikit-Learn ≥0.20 is required\n",
        "import sklearn\n",
        "assert sklearn.__version__ >= \"0.20\"\n",
        "\n",
        "# Common imports\n",
        "import numpy as np\n",
        "import os\n",
        "\n",
        "# to make this notebook's output stable across runs\n",
        "rnd_seed = 42\n",
        "rnd_gen = np.random.default_rng(rnd_seed)\n",
        "\n",
        "# To plot pretty figures\n",
        "%matplotlib inline\n",
        "import matplotlib as mpl\n",
        "import matplotlib.pyplot as plt\n",
        "mpl.rc('axes', labelsize=14)\n",
        "mpl.rc('xtick', labelsize=12)\n",
        "mpl.rc('ytick', labelsize=12)\n",
        "\n",
        "# Where to save the figures\n",
        "PROJECT_ROOT_DIR = \".\"\n",
        "CHAPTER_ID = \"dim_reduction\"\n",
        "IMAGES_PATH = os.path.join(PROJECT_ROOT_DIR, \"images\", CHAPTER_ID)\n",
        "os.makedirs(IMAGES_PATH, exist_ok=True)\n",
        "\n",
        "def save_fig(fig_id, tight_layout=True, fig_extension=\"png\", resolution=300):\n",
        "    path = os.path.join(IMAGES_PATH, fig_id + \".\" + fig_extension)\n",
        "    print(\"Saving figure\", fig_id)\n",
        "    if tight_layout:\n",
        "        plt.tight_layout()\n",
        "    plt.savefig(path, format=fig_extension, dpi=resolution)"
      ],
      "metadata": {
        "id": "n6EGU9f_hOTX"
      },
      "execution_count": 252,
      "outputs": []
    },
    {
      "cell_type": "code",
      "source": [
        "import pandas as pd\n",
        "url = 'https://raw.githubusercontent.com/axellebersier/2022_ML_EES/main/project/data.csv'\n",
        "df = pd.read_csv(url, delimiter=';')\n"
      ],
      "metadata": {
        "id": "pQl0AlMglnyD"
      },
      "execution_count": 253,
      "outputs": []
    },
    {
      "cell_type": "markdown",
      "source": [
        "\n",
        "##Data Description"
      ],
      "metadata": {
        "id": "q2ZjPNpyxU9F"
      }
    },
    {
      "cell_type": "code",
      "source": [
        "df.info()"
      ],
      "metadata": {
        "colab": {
          "base_uri": "https://localhost:8080/"
        },
        "id": "y2wZ2Xdkoo0P",
        "outputId": "ee9a05e5-9d3c-42a8-a69f-9cb3d4a9cbd4"
      },
      "execution_count": 254,
      "outputs": [
        {
          "output_type": "stream",
          "name": "stdout",
          "text": [
            "<class 'pandas.core.frame.DataFrame'>\n",
            "RangeIndex: 2198 entries, 0 to 2197\n",
            "Data columns (total 20 columns):\n",
            " #   Column             Non-Null Count  Dtype  \n",
            "---  ------             --------------  -----  \n",
            " 0   N_communes         2198 non-null   object \n",
            " 1   N_pop              2198 non-null   float64\n",
            " 2   D_pop              2198 non-null   float64\n",
            " 3   N_kids             2198 non-null   float64\n",
            " 4   W_pop              2198 non-null   float64\n",
            " 5   N_retired          2198 non-null   float64\n",
            " 6   N_foreigners       2198 non-null   float64\n",
            " 7   Natural_growth     2198 non-null   float64\n",
            " 8   N_wedding          2198 non-null   float64\n",
            " 9   N_death            2198 non-null   float64\n",
            " 10  Prop_fam           2198 non-null   float64\n",
            " 11  M_home             2198 non-null   float64\n",
            " 12  S_primary          2198 non-null   object \n",
            " 13  S_tertiary         2198 non-null   object \n",
            " 14  N_nlog             2198 non-null   float64\n",
            " 15  N_indivihome       2198 non-null   float64\n",
            " 16  little_house       2198 non-null   float64\n",
            " 17  N_social           2198 non-null   object \n",
            " 18  N_cinema           2198 non-null   float64\n",
            " 19  Migratory_balance  2198 non-null   float64\n",
            "dtypes: float64(16), object(4)\n",
            "memory usage: 343.6+ KB\n"
          ]
        }
      ]
    },
    {
      "cell_type": "code",
      "source": [
        "df.describe()"
      ],
      "metadata": {
        "colab": {
          "base_uri": "https://localhost:8080/",
          "height": 364
        },
        "id": "21ECUJJsnLE3",
        "outputId": "9b87583a-609e-4453-c1a9-a926250bcc79"
      },
      "execution_count": 255,
      "outputs": [
        {
          "output_type": "execute_result",
          "data": {
            "text/plain": [
              "               N_pop         D_pop        N_kids          W_pop     N_retired  \\\n",
              "count    2198.000000   2198.000000   2198.000000    2198.000000   2198.000000   \n",
              "mean     3944.631483    441.098908    785.396269    2417.802093    741.433121   \n",
              "std     12832.581553    795.711671   2315.055711    8463.505065   2090.630990   \n",
              "min        32.000000      0.800000      1.000000      19.000000      5.000000   \n",
              "25%       721.250000     82.700000    143.000000     429.250000    139.000000   \n",
              "50%      1555.500000    185.750000    328.000000     957.000000    311.000000   \n",
              "75%      3843.750000    470.725000    798.750000    2310.250000    738.500000   \n",
              "max    421878.000000  12797.000000  74392.000000  285786.000000  61700.000000   \n",
              "\n",
              "        N_foreigners  Natural_growth    N_wedding      N_death     Prop_fam  \\\n",
              "count    2198.000000     2198.000000  2198.000000  2198.000000  2198.000000   \n",
              "mean     1005.818016        4.421747    15.996360    34.665605     6.354959   \n",
              "std      4498.971352       42.836565    61.877402   116.070124     2.481014   \n",
              "min         0.000000     -275.000000     0.000000     0.000000     0.000000   \n",
              "25%        80.000000       -3.000000     2.000000     5.000000     4.800000   \n",
              "50%       231.000000        1.000000     6.000000    13.000000     6.000000   \n",
              "75%       755.500000        7.000000    15.000000    31.000000     7.500000   \n",
              "max    136743.000000     1574.000000  2212.000000  3605.000000    28.600000   \n",
              "\n",
              "            M_home       N_nlog  N_indivihome  little_house     N_cinema  \\\n",
              "count  2198.000000  2198.000000   2198.000000    2198.00000  2198.000000   \n",
              "mean      2.304613    22.435851     59.383258      50.47434     0.119654   \n",
              "std       0.188803    65.231776     13.611301       8.10201     0.665671   \n",
              "min       1.520000     0.000000      0.000000      15.70000     0.000000   \n",
              "25%       2.190000     1.000000     51.425000      45.20000     0.000000   \n",
              "50%       2.300000     5.000000     61.500000      50.60000     0.000000   \n",
              "75%       2.420000    21.000000     68.900000      56.00000     0.000000   \n",
              "max       3.220000  1772.000000     96.200000      85.80000    17.000000   \n",
              "\n",
              "       Migratory_balance  \n",
              "count        2198.000000  \n",
              "mean            8.297316  \n",
              "std            20.955043  \n",
              "min          -107.000000  \n",
              "25%            -3.100000  \n",
              "50%             6.200000  \n",
              "75%            17.875000  \n",
              "max           141.900000  "
            ],
            "text/html": [
              "\n",
              "  <div id=\"df-7df92bba-5149-49fe-a243-00e56d8ba4d5\">\n",
              "    <div class=\"colab-df-container\">\n",
              "      <div>\n",
              "<style scoped>\n",
              "    .dataframe tbody tr th:only-of-type {\n",
              "        vertical-align: middle;\n",
              "    }\n",
              "\n",
              "    .dataframe tbody tr th {\n",
              "        vertical-align: top;\n",
              "    }\n",
              "\n",
              "    .dataframe thead th {\n",
              "        text-align: right;\n",
              "    }\n",
              "</style>\n",
              "<table border=\"1\" class=\"dataframe\">\n",
              "  <thead>\n",
              "    <tr style=\"text-align: right;\">\n",
              "      <th></th>\n",
              "      <th>N_pop</th>\n",
              "      <th>D_pop</th>\n",
              "      <th>N_kids</th>\n",
              "      <th>W_pop</th>\n",
              "      <th>N_retired</th>\n",
              "      <th>N_foreigners</th>\n",
              "      <th>Natural_growth</th>\n",
              "      <th>N_wedding</th>\n",
              "      <th>N_death</th>\n",
              "      <th>Prop_fam</th>\n",
              "      <th>M_home</th>\n",
              "      <th>N_nlog</th>\n",
              "      <th>N_indivihome</th>\n",
              "      <th>little_house</th>\n",
              "      <th>N_cinema</th>\n",
              "      <th>Migratory_balance</th>\n",
              "    </tr>\n",
              "  </thead>\n",
              "  <tbody>\n",
              "    <tr>\n",
              "      <th>count</th>\n",
              "      <td>2198.000000</td>\n",
              "      <td>2198.000000</td>\n",
              "      <td>2198.000000</td>\n",
              "      <td>2198.000000</td>\n",
              "      <td>2198.000000</td>\n",
              "      <td>2198.000000</td>\n",
              "      <td>2198.000000</td>\n",
              "      <td>2198.000000</td>\n",
              "      <td>2198.000000</td>\n",
              "      <td>2198.000000</td>\n",
              "      <td>2198.000000</td>\n",
              "      <td>2198.000000</td>\n",
              "      <td>2198.000000</td>\n",
              "      <td>2198.00000</td>\n",
              "      <td>2198.000000</td>\n",
              "      <td>2198.000000</td>\n",
              "    </tr>\n",
              "    <tr>\n",
              "      <th>mean</th>\n",
              "      <td>3944.631483</td>\n",
              "      <td>441.098908</td>\n",
              "      <td>785.396269</td>\n",
              "      <td>2417.802093</td>\n",
              "      <td>741.433121</td>\n",
              "      <td>1005.818016</td>\n",
              "      <td>4.421747</td>\n",
              "      <td>15.996360</td>\n",
              "      <td>34.665605</td>\n",
              "      <td>6.354959</td>\n",
              "      <td>2.304613</td>\n",
              "      <td>22.435851</td>\n",
              "      <td>59.383258</td>\n",
              "      <td>50.47434</td>\n",
              "      <td>0.119654</td>\n",
              "      <td>8.297316</td>\n",
              "    </tr>\n",
              "    <tr>\n",
              "      <th>std</th>\n",
              "      <td>12832.581553</td>\n",
              "      <td>795.711671</td>\n",
              "      <td>2315.055711</td>\n",
              "      <td>8463.505065</td>\n",
              "      <td>2090.630990</td>\n",
              "      <td>4498.971352</td>\n",
              "      <td>42.836565</td>\n",
              "      <td>61.877402</td>\n",
              "      <td>116.070124</td>\n",
              "      <td>2.481014</td>\n",
              "      <td>0.188803</td>\n",
              "      <td>65.231776</td>\n",
              "      <td>13.611301</td>\n",
              "      <td>8.10201</td>\n",
              "      <td>0.665671</td>\n",
              "      <td>20.955043</td>\n",
              "    </tr>\n",
              "    <tr>\n",
              "      <th>min</th>\n",
              "      <td>32.000000</td>\n",
              "      <td>0.800000</td>\n",
              "      <td>1.000000</td>\n",
              "      <td>19.000000</td>\n",
              "      <td>5.000000</td>\n",
              "      <td>0.000000</td>\n",
              "      <td>-275.000000</td>\n",
              "      <td>0.000000</td>\n",
              "      <td>0.000000</td>\n",
              "      <td>0.000000</td>\n",
              "      <td>1.520000</td>\n",
              "      <td>0.000000</td>\n",
              "      <td>0.000000</td>\n",
              "      <td>15.70000</td>\n",
              "      <td>0.000000</td>\n",
              "      <td>-107.000000</td>\n",
              "    </tr>\n",
              "    <tr>\n",
              "      <th>25%</th>\n",
              "      <td>721.250000</td>\n",
              "      <td>82.700000</td>\n",
              "      <td>143.000000</td>\n",
              "      <td>429.250000</td>\n",
              "      <td>139.000000</td>\n",
              "      <td>80.000000</td>\n",
              "      <td>-3.000000</td>\n",
              "      <td>2.000000</td>\n",
              "      <td>5.000000</td>\n",
              "      <td>4.800000</td>\n",
              "      <td>2.190000</td>\n",
              "      <td>1.000000</td>\n",
              "      <td>51.425000</td>\n",
              "      <td>45.20000</td>\n",
              "      <td>0.000000</td>\n",
              "      <td>-3.100000</td>\n",
              "    </tr>\n",
              "    <tr>\n",
              "      <th>50%</th>\n",
              "      <td>1555.500000</td>\n",
              "      <td>185.750000</td>\n",
              "      <td>328.000000</td>\n",
              "      <td>957.000000</td>\n",
              "      <td>311.000000</td>\n",
              "      <td>231.000000</td>\n",
              "      <td>1.000000</td>\n",
              "      <td>6.000000</td>\n",
              "      <td>13.000000</td>\n",
              "      <td>6.000000</td>\n",
              "      <td>2.300000</td>\n",
              "      <td>5.000000</td>\n",
              "      <td>61.500000</td>\n",
              "      <td>50.60000</td>\n",
              "      <td>0.000000</td>\n",
              "      <td>6.200000</td>\n",
              "    </tr>\n",
              "    <tr>\n",
              "      <th>75%</th>\n",
              "      <td>3843.750000</td>\n",
              "      <td>470.725000</td>\n",
              "      <td>798.750000</td>\n",
              "      <td>2310.250000</td>\n",
              "      <td>738.500000</td>\n",
              "      <td>755.500000</td>\n",
              "      <td>7.000000</td>\n",
              "      <td>15.000000</td>\n",
              "      <td>31.000000</td>\n",
              "      <td>7.500000</td>\n",
              "      <td>2.420000</td>\n",
              "      <td>21.000000</td>\n",
              "      <td>68.900000</td>\n",
              "      <td>56.00000</td>\n",
              "      <td>0.000000</td>\n",
              "      <td>17.875000</td>\n",
              "    </tr>\n",
              "    <tr>\n",
              "      <th>max</th>\n",
              "      <td>421878.000000</td>\n",
              "      <td>12797.000000</td>\n",
              "      <td>74392.000000</td>\n",
              "      <td>285786.000000</td>\n",
              "      <td>61700.000000</td>\n",
              "      <td>136743.000000</td>\n",
              "      <td>1574.000000</td>\n",
              "      <td>2212.000000</td>\n",
              "      <td>3605.000000</td>\n",
              "      <td>28.600000</td>\n",
              "      <td>3.220000</td>\n",
              "      <td>1772.000000</td>\n",
              "      <td>96.200000</td>\n",
              "      <td>85.80000</td>\n",
              "      <td>17.000000</td>\n",
              "      <td>141.900000</td>\n",
              "    </tr>\n",
              "  </tbody>\n",
              "</table>\n",
              "</div>\n",
              "      <button class=\"colab-df-convert\" onclick=\"convertToInteractive('df-7df92bba-5149-49fe-a243-00e56d8ba4d5')\"\n",
              "              title=\"Convert this dataframe to an interactive table.\"\n",
              "              style=\"display:none;\">\n",
              "        \n",
              "  <svg xmlns=\"http://www.w3.org/2000/svg\" height=\"24px\"viewBox=\"0 0 24 24\"\n",
              "       width=\"24px\">\n",
              "    <path d=\"M0 0h24v24H0V0z\" fill=\"none\"/>\n",
              "    <path d=\"M18.56 5.44l.94 2.06.94-2.06 2.06-.94-2.06-.94-.94-2.06-.94 2.06-2.06.94zm-11 1L8.5 8.5l.94-2.06 2.06-.94-2.06-.94L8.5 2.5l-.94 2.06-2.06.94zm10 10l.94 2.06.94-2.06 2.06-.94-2.06-.94-.94-2.06-.94 2.06-2.06.94z\"/><path d=\"M17.41 7.96l-1.37-1.37c-.4-.4-.92-.59-1.43-.59-.52 0-1.04.2-1.43.59L10.3 9.45l-7.72 7.72c-.78.78-.78 2.05 0 2.83L4 21.41c.39.39.9.59 1.41.59.51 0 1.02-.2 1.41-.59l7.78-7.78 2.81-2.81c.8-.78.8-2.07 0-2.86zM5.41 20L4 18.59l7.72-7.72 1.47 1.35L5.41 20z\"/>\n",
              "  </svg>\n",
              "      </button>\n",
              "      \n",
              "  <style>\n",
              "    .colab-df-container {\n",
              "      display:flex;\n",
              "      flex-wrap:wrap;\n",
              "      gap: 12px;\n",
              "    }\n",
              "\n",
              "    .colab-df-convert {\n",
              "      background-color: #E8F0FE;\n",
              "      border: none;\n",
              "      border-radius: 50%;\n",
              "      cursor: pointer;\n",
              "      display: none;\n",
              "      fill: #1967D2;\n",
              "      height: 32px;\n",
              "      padding: 0 0 0 0;\n",
              "      width: 32px;\n",
              "    }\n",
              "\n",
              "    .colab-df-convert:hover {\n",
              "      background-color: #E2EBFA;\n",
              "      box-shadow: 0px 1px 2px rgba(60, 64, 67, 0.3), 0px 1px 3px 1px rgba(60, 64, 67, 0.15);\n",
              "      fill: #174EA6;\n",
              "    }\n",
              "\n",
              "    [theme=dark] .colab-df-convert {\n",
              "      background-color: #3B4455;\n",
              "      fill: #D2E3FC;\n",
              "    }\n",
              "\n",
              "    [theme=dark] .colab-df-convert:hover {\n",
              "      background-color: #434B5C;\n",
              "      box-shadow: 0px 1px 3px 1px rgba(0, 0, 0, 0.15);\n",
              "      filter: drop-shadow(0px 1px 2px rgba(0, 0, 0, 0.3));\n",
              "      fill: #FFFFFF;\n",
              "    }\n",
              "  </style>\n",
              "\n",
              "      <script>\n",
              "        const buttonEl =\n",
              "          document.querySelector('#df-7df92bba-5149-49fe-a243-00e56d8ba4d5 button.colab-df-convert');\n",
              "        buttonEl.style.display =\n",
              "          google.colab.kernel.accessAllowed ? 'block' : 'none';\n",
              "\n",
              "        async function convertToInteractive(key) {\n",
              "          const element = document.querySelector('#df-7df92bba-5149-49fe-a243-00e56d8ba4d5');\n",
              "          const dataTable =\n",
              "            await google.colab.kernel.invokeFunction('convertToInteractive',\n",
              "                                                     [key], {});\n",
              "          if (!dataTable) return;\n",
              "\n",
              "          const docLinkHtml = 'Like what you see? Visit the ' +\n",
              "            '<a target=\"_blank\" href=https://colab.research.google.com/notebooks/data_table.ipynb>data table notebook</a>'\n",
              "            + ' to learn more about interactive tables.';\n",
              "          element.innerHTML = '';\n",
              "          dataTable['output_type'] = 'display_data';\n",
              "          await google.colab.output.renderOutput(dataTable, element);\n",
              "          const docLink = document.createElement('div');\n",
              "          docLink.innerHTML = docLinkHtml;\n",
              "          element.appendChild(docLink);\n",
              "        }\n",
              "      </script>\n",
              "    </div>\n",
              "  </div>\n",
              "  "
            ]
          },
          "metadata": {},
          "execution_count": 255
        }
      ]
    },
    {
      "cell_type": "code",
      "source": [
        "df.head()"
      ],
      "metadata": {
        "colab": {
          "base_uri": "https://localhost:8080/",
          "height": 322
        },
        "id": "iWURSZg9t_js",
        "outputId": "53832e12-bf43-4d93-f2ec-ec9c4f477124"
      },
      "execution_count": 256,
      "outputs": [
        {
          "output_type": "execute_result",
          "data": {
            "text/plain": [
              "           N_communes    N_pop   D_pop  N_kids   W_pop  N_retired  \\\n",
              "0     Aeugst am Albis   2014.0   254.6   382.0  1258.0      374.0   \n",
              "1  Affoltern am Albis  12289.0  1160.4  2482.0  7523.0     2284.0   \n",
              "2          Bonstetten   5610.0   755.0  1350.0  3327.0      933.0   \n",
              "3     Hausen am Albis   3801.0   279.5   840.0  2270.0      691.0   \n",
              "4            Hedingen   3795.0   581.2   820.0  2330.0      645.0   \n",
              "\n",
              "   N_foreigners  Natural_growth  N_wedding  N_death  Prop_fam  M_home  \\\n",
              "0         290.0            -2.0        5.0     12.0       4.7    2.28   \n",
              "1        3564.0            26.0       59.0    125.0       5.5    2.19   \n",
              "2         971.0            26.0       26.0     35.0       5.2    2.37   \n",
              "3         602.0             8.0       10.0     19.0       6.7    2.39   \n",
              "4         659.0             2.0        7.0     20.0       6.5    2.38   \n",
              "\n",
              "  S_primary S_tertiary  N_nlog  N_indivihome  little_house N_social  N_cinema  \\\n",
              "0     14.00     108.00    10.0          69.2          42.3    26.00       0.0   \n",
              "1     23.00     857.00    56.0          54.7          60.9   392.00       1.0   \n",
              "2     16.00     235.00     1.0          71.6          55.3    63.00       0.0   \n",
              "3     34.00     199.00     5.0          69.1          43.7    47.00       0.0   \n",
              "4     11.00     158.00     4.0          74.7          47.6    48.00       0.0   \n",
              "\n",
              "   Migratory_balance  \n",
              "0               14.5  \n",
              "1               -0.5  \n",
              "2                0.5  \n",
              "3               10.9  \n",
              "4                2.1  "
            ],
            "text/html": [
              "\n",
              "  <div id=\"df-a93f56ff-fa99-44c1-b7b3-f5538c8e3bdb\">\n",
              "    <div class=\"colab-df-container\">\n",
              "      <div>\n",
              "<style scoped>\n",
              "    .dataframe tbody tr th:only-of-type {\n",
              "        vertical-align: middle;\n",
              "    }\n",
              "\n",
              "    .dataframe tbody tr th {\n",
              "        vertical-align: top;\n",
              "    }\n",
              "\n",
              "    .dataframe thead th {\n",
              "        text-align: right;\n",
              "    }\n",
              "</style>\n",
              "<table border=\"1\" class=\"dataframe\">\n",
              "  <thead>\n",
              "    <tr style=\"text-align: right;\">\n",
              "      <th></th>\n",
              "      <th>N_communes</th>\n",
              "      <th>N_pop</th>\n",
              "      <th>D_pop</th>\n",
              "      <th>N_kids</th>\n",
              "      <th>W_pop</th>\n",
              "      <th>N_retired</th>\n",
              "      <th>N_foreigners</th>\n",
              "      <th>Natural_growth</th>\n",
              "      <th>N_wedding</th>\n",
              "      <th>N_death</th>\n",
              "      <th>Prop_fam</th>\n",
              "      <th>M_home</th>\n",
              "      <th>S_primary</th>\n",
              "      <th>S_tertiary</th>\n",
              "      <th>N_nlog</th>\n",
              "      <th>N_indivihome</th>\n",
              "      <th>little_house</th>\n",
              "      <th>N_social</th>\n",
              "      <th>N_cinema</th>\n",
              "      <th>Migratory_balance</th>\n",
              "    </tr>\n",
              "  </thead>\n",
              "  <tbody>\n",
              "    <tr>\n",
              "      <th>0</th>\n",
              "      <td>Aeugst am Albis</td>\n",
              "      <td>2014.0</td>\n",
              "      <td>254.6</td>\n",
              "      <td>382.0</td>\n",
              "      <td>1258.0</td>\n",
              "      <td>374.0</td>\n",
              "      <td>290.0</td>\n",
              "      <td>-2.0</td>\n",
              "      <td>5.0</td>\n",
              "      <td>12.0</td>\n",
              "      <td>4.7</td>\n",
              "      <td>2.28</td>\n",
              "      <td>14.00</td>\n",
              "      <td>108.00</td>\n",
              "      <td>10.0</td>\n",
              "      <td>69.2</td>\n",
              "      <td>42.3</td>\n",
              "      <td>26.00</td>\n",
              "      <td>0.0</td>\n",
              "      <td>14.5</td>\n",
              "    </tr>\n",
              "    <tr>\n",
              "      <th>1</th>\n",
              "      <td>Affoltern am Albis</td>\n",
              "      <td>12289.0</td>\n",
              "      <td>1160.4</td>\n",
              "      <td>2482.0</td>\n",
              "      <td>7523.0</td>\n",
              "      <td>2284.0</td>\n",
              "      <td>3564.0</td>\n",
              "      <td>26.0</td>\n",
              "      <td>59.0</td>\n",
              "      <td>125.0</td>\n",
              "      <td>5.5</td>\n",
              "      <td>2.19</td>\n",
              "      <td>23.00</td>\n",
              "      <td>857.00</td>\n",
              "      <td>56.0</td>\n",
              "      <td>54.7</td>\n",
              "      <td>60.9</td>\n",
              "      <td>392.00</td>\n",
              "      <td>1.0</td>\n",
              "      <td>-0.5</td>\n",
              "    </tr>\n",
              "    <tr>\n",
              "      <th>2</th>\n",
              "      <td>Bonstetten</td>\n",
              "      <td>5610.0</td>\n",
              "      <td>755.0</td>\n",
              "      <td>1350.0</td>\n",
              "      <td>3327.0</td>\n",
              "      <td>933.0</td>\n",
              "      <td>971.0</td>\n",
              "      <td>26.0</td>\n",
              "      <td>26.0</td>\n",
              "      <td>35.0</td>\n",
              "      <td>5.2</td>\n",
              "      <td>2.37</td>\n",
              "      <td>16.00</td>\n",
              "      <td>235.00</td>\n",
              "      <td>1.0</td>\n",
              "      <td>71.6</td>\n",
              "      <td>55.3</td>\n",
              "      <td>63.00</td>\n",
              "      <td>0.0</td>\n",
              "      <td>0.5</td>\n",
              "    </tr>\n",
              "    <tr>\n",
              "      <th>3</th>\n",
              "      <td>Hausen am Albis</td>\n",
              "      <td>3801.0</td>\n",
              "      <td>279.5</td>\n",
              "      <td>840.0</td>\n",
              "      <td>2270.0</td>\n",
              "      <td>691.0</td>\n",
              "      <td>602.0</td>\n",
              "      <td>8.0</td>\n",
              "      <td>10.0</td>\n",
              "      <td>19.0</td>\n",
              "      <td>6.7</td>\n",
              "      <td>2.39</td>\n",
              "      <td>34.00</td>\n",
              "      <td>199.00</td>\n",
              "      <td>5.0</td>\n",
              "      <td>69.1</td>\n",
              "      <td>43.7</td>\n",
              "      <td>47.00</td>\n",
              "      <td>0.0</td>\n",
              "      <td>10.9</td>\n",
              "    </tr>\n",
              "    <tr>\n",
              "      <th>4</th>\n",
              "      <td>Hedingen</td>\n",
              "      <td>3795.0</td>\n",
              "      <td>581.2</td>\n",
              "      <td>820.0</td>\n",
              "      <td>2330.0</td>\n",
              "      <td>645.0</td>\n",
              "      <td>659.0</td>\n",
              "      <td>2.0</td>\n",
              "      <td>7.0</td>\n",
              "      <td>20.0</td>\n",
              "      <td>6.5</td>\n",
              "      <td>2.38</td>\n",
              "      <td>11.00</td>\n",
              "      <td>158.00</td>\n",
              "      <td>4.0</td>\n",
              "      <td>74.7</td>\n",
              "      <td>47.6</td>\n",
              "      <td>48.00</td>\n",
              "      <td>0.0</td>\n",
              "      <td>2.1</td>\n",
              "    </tr>\n",
              "  </tbody>\n",
              "</table>\n",
              "</div>\n",
              "      <button class=\"colab-df-convert\" onclick=\"convertToInteractive('df-a93f56ff-fa99-44c1-b7b3-f5538c8e3bdb')\"\n",
              "              title=\"Convert this dataframe to an interactive table.\"\n",
              "              style=\"display:none;\">\n",
              "        \n",
              "  <svg xmlns=\"http://www.w3.org/2000/svg\" height=\"24px\"viewBox=\"0 0 24 24\"\n",
              "       width=\"24px\">\n",
              "    <path d=\"M0 0h24v24H0V0z\" fill=\"none\"/>\n",
              "    <path d=\"M18.56 5.44l.94 2.06.94-2.06 2.06-.94-2.06-.94-.94-2.06-.94 2.06-2.06.94zm-11 1L8.5 8.5l.94-2.06 2.06-.94-2.06-.94L8.5 2.5l-.94 2.06-2.06.94zm10 10l.94 2.06.94-2.06 2.06-.94-2.06-.94-.94-2.06-.94 2.06-2.06.94z\"/><path d=\"M17.41 7.96l-1.37-1.37c-.4-.4-.92-.59-1.43-.59-.52 0-1.04.2-1.43.59L10.3 9.45l-7.72 7.72c-.78.78-.78 2.05 0 2.83L4 21.41c.39.39.9.59 1.41.59.51 0 1.02-.2 1.41-.59l7.78-7.78 2.81-2.81c.8-.78.8-2.07 0-2.86zM5.41 20L4 18.59l7.72-7.72 1.47 1.35L5.41 20z\"/>\n",
              "  </svg>\n",
              "      </button>\n",
              "      \n",
              "  <style>\n",
              "    .colab-df-container {\n",
              "      display:flex;\n",
              "      flex-wrap:wrap;\n",
              "      gap: 12px;\n",
              "    }\n",
              "\n",
              "    .colab-df-convert {\n",
              "      background-color: #E8F0FE;\n",
              "      border: none;\n",
              "      border-radius: 50%;\n",
              "      cursor: pointer;\n",
              "      display: none;\n",
              "      fill: #1967D2;\n",
              "      height: 32px;\n",
              "      padding: 0 0 0 0;\n",
              "      width: 32px;\n",
              "    }\n",
              "\n",
              "    .colab-df-convert:hover {\n",
              "      background-color: #E2EBFA;\n",
              "      box-shadow: 0px 1px 2px rgba(60, 64, 67, 0.3), 0px 1px 3px 1px rgba(60, 64, 67, 0.15);\n",
              "      fill: #174EA6;\n",
              "    }\n",
              "\n",
              "    [theme=dark] .colab-df-convert {\n",
              "      background-color: #3B4455;\n",
              "      fill: #D2E3FC;\n",
              "    }\n",
              "\n",
              "    [theme=dark] .colab-df-convert:hover {\n",
              "      background-color: #434B5C;\n",
              "      box-shadow: 0px 1px 3px 1px rgba(0, 0, 0, 0.15);\n",
              "      filter: drop-shadow(0px 1px 2px rgba(0, 0, 0, 0.3));\n",
              "      fill: #FFFFFF;\n",
              "    }\n",
              "  </style>\n",
              "\n",
              "      <script>\n",
              "        const buttonEl =\n",
              "          document.querySelector('#df-a93f56ff-fa99-44c1-b7b3-f5538c8e3bdb button.colab-df-convert');\n",
              "        buttonEl.style.display =\n",
              "          google.colab.kernel.accessAllowed ? 'block' : 'none';\n",
              "\n",
              "        async function convertToInteractive(key) {\n",
              "          const element = document.querySelector('#df-a93f56ff-fa99-44c1-b7b3-f5538c8e3bdb');\n",
              "          const dataTable =\n",
              "            await google.colab.kernel.invokeFunction('convertToInteractive',\n",
              "                                                     [key], {});\n",
              "          if (!dataTable) return;\n",
              "\n",
              "          const docLinkHtml = 'Like what you see? Visit the ' +\n",
              "            '<a target=\"_blank\" href=https://colab.research.google.com/notebooks/data_table.ipynb>data table notebook</a>'\n",
              "            + ' to learn more about interactive tables.';\n",
              "          element.innerHTML = '';\n",
              "          dataTable['output_type'] = 'display_data';\n",
              "          await google.colab.output.renderOutput(dataTable, element);\n",
              "          const docLink = document.createElement('div');\n",
              "          docLink.innerHTML = docLinkHtml;\n",
              "          element.appendChild(docLink);\n",
              "        }\n",
              "      </script>\n",
              "    </div>\n",
              "  </div>\n",
              "  "
            ]
          },
          "metadata": {},
          "execution_count": 256
        }
      ]
    },
    {
      "cell_type": "code",
      "source": [
        "#df1 <- np.asmatrix(df[2:7,:])\n",
        "df1 =  df.iloc[:,[2,3,4,5,6,7,8,9,10,11,14,15,16,18,19]]\n",
        "df1.head()\n",
        "\n",
        "df1 = np.asmatrix(df1)\n",
        "print(df1)\n"
      ],
      "metadata": {
        "colab": {
          "base_uri": "https://localhost:8080/"
        },
        "id": "dfQxYlXOsKKy",
        "outputId": "b440511f-22f9-4ba6-ad48-e82eeae23247"
      },
      "execution_count": 257,
      "outputs": [
        {
          "output_type": "stream",
          "name": "stdout",
          "text": [
            "[[ 2.5460e+02  3.8200e+02  1.2580e+03 ...  4.2300e+01  0.0000e+00\n",
            "   1.4500e+01]\n",
            " [ 1.1604e+03  2.4820e+03  7.5230e+03 ...  6.0900e+01  1.0000e+00\n",
            "  -5.0000e-01]\n",
            " [ 7.5500e+02  1.3500e+03  3.3270e+03 ...  5.5300e+01  0.0000e+00\n",
            "   5.0000e-01]\n",
            " ...\n",
            " [ 2.0500e+01  2.3000e+02  7.1900e+02 ...  4.9500e+01  0.0000e+00\n",
            "   7.9000e+00]\n",
            " [ 2.6800e+01  1.8700e+02  6.0500e+02 ...  4.7300e+01  0.0000e+00\n",
            "   1.2800e+01]\n",
            " [ 3.6500e+01  2.3500e+02  6.2200e+02 ...  4.3500e+01  0.0000e+00\n",
            "  -9.7000e+00]]\n"
          ]
        }
      ]
    },
    {
      "cell_type": "code",
      "source": [
        "df1 = pd.DataFrame(df1)\n",
        "corr_matrix = df1.corr()\n",
        "print(corr_matrix)"
      ],
      "metadata": {
        "colab": {
          "base_uri": "https://localhost:8080/"
        },
        "id": "PeK0FOGhwkYr",
        "outputId": "5ac0ae24-583e-4f81-a02e-d467325f2db9"
      },
      "execution_count": 258,
      "outputs": [
        {
          "output_type": "stream",
          "name": "stdout",
          "text": [
            "          0         1         2         3         4         5         6   \\\n",
            "0   1.000000  0.507885  0.479303  0.510345  0.533100  0.298850  0.430725   \n",
            "1   0.507885  1.000000  0.995221  0.985010  0.973496  0.777000  0.976547   \n",
            "2   0.479303  0.995221  1.000000  0.982803  0.976562  0.791325  0.987465   \n",
            "3   0.510345  0.985010  0.982803  1.000000  0.955666  0.683809  0.965585   \n",
            "4   0.533100  0.973496  0.976562  0.955666  1.000000  0.760704  0.941474   \n",
            "5   0.298850  0.777000  0.791325  0.683809  0.760704  1.000000  0.806933   \n",
            "6   0.430725  0.976547  0.987465  0.965585  0.941474  0.806933  1.000000   \n",
            "7   0.490581  0.984636  0.987278  0.993093  0.965907  0.691983  0.971690   \n",
            "8  -0.128236 -0.079117 -0.088127 -0.119990 -0.078004  0.012477 -0.087554   \n",
            "9  -0.140038 -0.133529 -0.144196 -0.187857 -0.138050  0.018671 -0.144423   \n",
            "10  0.449872  0.780196  0.768271  0.759484  0.729997  0.624347  0.765675   \n",
            "11 -0.154556 -0.174866 -0.175708 -0.186219 -0.180827 -0.109215 -0.170031   \n",
            "12  0.232738  0.158626  0.142515  0.181936  0.128756  0.035959  0.137916   \n",
            "13  0.399910  0.848330  0.857504  0.856505  0.824353  0.630704  0.852118   \n",
            "14  0.006321 -0.025623 -0.024281 -0.031206 -0.019773  0.007163 -0.023723   \n",
            "\n",
            "          7         8         9         10        11        12        13  \\\n",
            "0   0.490581 -0.128236 -0.140038  0.449872 -0.154556  0.232738  0.399910   \n",
            "1   0.984636 -0.079117 -0.133529  0.780196 -0.174866  0.158626  0.848330   \n",
            "2   0.987278 -0.088127 -0.144196  0.768271 -0.175708  0.142515  0.857504   \n",
            "3   0.993093 -0.119990 -0.187857  0.759484 -0.186219  0.181936  0.856505   \n",
            "4   0.965907 -0.078004 -0.138050  0.729997 -0.180827  0.128756  0.824353   \n",
            "5   0.691983  0.012477  0.018671  0.624347 -0.109215  0.035959  0.630704   \n",
            "6   0.971690 -0.087554 -0.144423  0.765675 -0.170031  0.137916  0.852118   \n",
            "7   1.000000 -0.105250 -0.179184  0.749451 -0.186166  0.162308  0.864346   \n",
            "8  -0.105250  1.000000  0.760009 -0.078165  0.030722 -0.359666 -0.106232   \n",
            "9  -0.179184  0.760009  1.000000 -0.121687  0.228293 -0.428039 -0.195506   \n",
            "10  0.749451 -0.078165 -0.121687  1.000000 -0.148298  0.178351  0.609175   \n",
            "11 -0.186166  0.030722  0.228293 -0.148298  1.000000 -0.264901 -0.222226   \n",
            "12  0.162308 -0.359666 -0.428039  0.178351 -0.264901  1.000000  0.139189   \n",
            "13  0.864346 -0.106232 -0.195506  0.609175 -0.222226  0.139189  1.000000   \n",
            "14 -0.031812  0.010445  0.064150  0.126488  0.047573 -0.029786 -0.039349   \n",
            "\n",
            "          14  \n",
            "0   0.006321  \n",
            "1  -0.025623  \n",
            "2  -0.024281  \n",
            "3  -0.031206  \n",
            "4  -0.019773  \n",
            "5   0.007163  \n",
            "6  -0.023723  \n",
            "7  -0.031812  \n",
            "8   0.010445  \n",
            "9   0.064150  \n",
            "10  0.126488  \n",
            "11  0.047573  \n",
            "12 -0.029786  \n",
            "13 -0.039349  \n",
            "14  1.000000  \n"
          ]
        }
      ]
    },
    {
      "cell_type": "code",
      "source": [
        "import seaborn as sn\n",
        "import matplotlib.pyplot as plt\n",
        "\n",
        "ax = sn.heatmap(corr_matrix, annot=True)\n",
        "plt.title(\"Heatmap of correlations\")\n",
        "plt.rcParams[\"figure.figsize\"] = (10,15)\n",
        "plt.show()\n"
      ],
      "metadata": {
        "colab": {
          "base_uri": "https://localhost:8080/",
          "height": 284
        },
        "id": "UVUG6lq6xnWn",
        "outputId": "fcc9bf34-d9a4-4a6d-c15f-8bfc87d8c272"
      },
      "execution_count": 259,
      "outputs": [
        {
          "output_type": "display_data",
          "data": {
            "text/plain": [
              "<Figure size 432x288 with 2 Axes>"
            ],
            "image/png": "[encoded data removed]"
          },
          "metadata": {
            "needs_background": "light"
          }
        }
      ]
    },
    {
      "cell_type": "markdown",
      "source": [
        "##Analysis with KMeans"
      ],
      "metadata": {
        "id": "yukDbeqcJEWH"
      }
    },
    {
      "cell_type": "code",
      "source": [
        "import matplotlib.pyplot as plt\n",
        "from sklearn.datasets import make_blobs\n",
        "from sklearn.cluster import KMeans\n",
        "from sklearn.metrics import silhouette_score\n",
        "from sklearn.preprocessing import StandardScaler"
      ],
      "metadata": {
        "id": "TQSq_I9mJAow"
      },
      "execution_count": 260,
      "outputs": []
    },
    {
      "cell_type": "code",
      "source": [
        "df1.shape"
      ],
      "metadata": {
        "colab": {
          "base_uri": "https://localhost:8080/"
        },
        "id": "iRX29emd8bmN",
        "outputId": "f4c441a9-fffe-421b-feec-f148d7fcd8aa"
      },
      "execution_count": 261,
      "outputs": [
        {
          "output_type": "execute_result",
          "data": {
            "text/plain": [
              "(2198, 15)"
            ]
          },
          "metadata": {},
          "execution_count": 261
        }
      ]
    },
    {
      "cell_type": "code",
      "source": [
        "from sklearn.preprocessing import StandardScaler\n",
        "scaler = StandardScaler()\n",
        "stdf1 = scaler.fit_transform(df1)\n",
        "print(stdf1)\n",
        "df = pd.DataFrame(stdf1)\n",
        "print(df)\n",
        "df.to_csv('data_standardized', index = False, sep='\\t')\n",
        "df.shape"
      ],
      "metadata": {
        "id": "klPq3xRGSymL",
        "outputId": "830bb286-d4b3-4b91-b778-55520ffdf44f",
        "colab": {
          "base_uri": "https://localhost:8080/"
        }
      },
      "execution_count": 262,
      "outputs": [
        {
          "output_type": "stream",
          "name": "stdout",
          "text": [
            "[[-0.23443334 -0.17428871 -0.13706685 ... -1.00915699 -0.17979062\n",
            "   0.29606695]\n",
            " [ 0.90417773  0.73302331  0.60333864 ...  1.28709192  1.32279409\n",
            "  -0.41991408]\n",
            " [ 0.39458077  0.24393893  0.10745014 ...  0.59574816 -0.17979062\n",
            "  -0.37218201]\n",
            " ...\n",
            " [-0.52870233 -0.23996081 -0.20076654 ... -0.12028644 -0.17979062\n",
            "  -0.0189647 ]\n",
            " [-0.52078309 -0.25853911 -0.21423921 ... -0.39188578 -0.17979062\n",
            "   0.21492244]\n",
            " [-0.50858997 -0.23780055 -0.21223013 ... -0.8610119  -0.17979062\n",
            "  -0.85904912]]\n",
            "            0         1         2         3         4         5         6   \\\n",
            "0    -0.234433 -0.174289 -0.137067 -0.175792 -0.159143 -0.149947 -0.177752   \n",
            "1     0.904178  0.733023  0.603339  0.738015  0.568744  0.503849  0.695139   \n",
            "2     0.394581  0.243939  0.107450  0.091652 -0.007741  0.503849  0.161705   \n",
            "3    -0.203133  0.023592 -0.017467 -0.024129 -0.089778  0.083552 -0.096929   \n",
            "4     0.176110  0.014951 -0.010377 -0.046137 -0.077106 -0.056547 -0.145423   \n",
            "...        ...       ...       ...       ...       ...       ...       ...   \n",
            "2193 -0.477542 -0.297424 -0.248157 -0.285353 -0.214724 -0.079897 -0.226246   \n",
            "2194 -0.486718 -0.223111 -0.208448 -0.202585 -0.197828 -0.360096 -0.242411   \n",
            "2195 -0.528702 -0.239961 -0.200767 -0.204498 -0.202941 -0.290046 -0.193917   \n",
            "2196 -0.520783 -0.258539 -0.214239 -0.209283 -0.204720 -0.149947 -0.210082   \n",
            "2197 -0.508590 -0.237801 -0.212230 -0.221722 -0.208499 -0.009848 -0.161588   \n",
            "\n",
            "            7         8         9         10        11        12        13  \\\n",
            "0    -0.195320 -0.667201 -0.130394 -0.190684  0.721384 -1.009157 -0.179791   \n",
            "1     0.778451 -0.344679 -0.607190  0.514654 -0.344150  1.287092  1.322794   \n",
            "2     0.002882 -0.465625  0.346401 -0.328685  0.897748  0.595748 -0.179791   \n",
            "3    -0.134997  0.139104  0.452356 -0.267352  0.714036 -0.836321 -0.179791   \n",
            "4    -0.126380  0.058474  0.399378 -0.282685  1.125552 -0.354850 -0.179791   \n",
            "...        ...       ...       ...       ...       ...       ...       ...   \n",
            "2193 -0.264259  0.219735 -0.395281 -0.344019  0.603808 -0.441267 -0.179791   \n",
            "2194 -0.117763  0.703518 -0.236349 -0.328685  1.206386 -0.465958 -0.179791   \n",
            "2195 -0.126380  0.018158 -1.242917 -0.190684  0.074715 -0.120286 -0.179791   \n",
            "2196 -0.203937 -0.586571 -0.978031 -0.328685  1.154946 -0.391886 -0.179791   \n",
            "2197 -0.221172  0.219735 -0.342304 -0.313352  0.750778 -0.861012 -0.179791   \n",
            "\n",
            "            14  \n",
            "0     0.296067  \n",
            "1    -0.419914  \n",
            "2    -0.372182  \n",
            "3     0.124232  \n",
            "4    -0.295811  \n",
            "...        ...  \n",
            "2193 -0.310130  \n",
            "2194  0.143324  \n",
            "2195 -0.018965  \n",
            "2196  0.214922  \n",
            "2197 -0.859049  \n",
            "\n",
            "[2198 rows x 15 columns]\n"
          ]
        },
        {
          "output_type": "execute_result",
          "data": {
            "text/plain": [
              "(2198, 15)"
            ]
          },
          "metadata": {},
          "execution_count": 262
        }
      ]
    },
    {
      "cell_type": "code",
      "source": [
        "from sklearn.cluster import KMeans\n",
        "\n",
        "\n",
        "inertias = []\n",
        "\n",
        "for i in range(1,11):\n",
        "    kmeans = KMeans(n_clusters=i)\n",
        "    kmeans.fit(stdf1)\n",
        "    inertias.append(kmeans.inertia_)\n",
        "\n",
        "plt.plot(range(1,11), inertias, marker='o')\n",
        "plt.title('Elbow method')\n",
        "plt.xlabel('Number of clusters')\n",
        "plt.ylabel('Inertia')\n",
        "plt.show()"
      ],
      "metadata": {
        "id": "K6zP2PbJ1R9s",
        "outputId": "e9af4738-3a2f-4e6b-b206-53e940fb82a7",
        "colab": {
          "base_uri": "https://localhost:8080/",
          "height": 900
        }
      },
      "execution_count": 263,
      "outputs": [
        {
          "output_type": "display_data",
          "data": {
            "text/plain": [
              "<Figure size 720x1080 with 1 Axes>"
            ],
            "image/png": "[encoded data removed]"
          },
          "metadata": {
            "needs_background": "light"
          }
        }
      ]
    },
    {
      "cell_type": "code",
      "source": [
        "silhouette_ann= []\n",
        "for num_clusters in range(2,10):\n",
        "  # initialise kmeans\n",
        "  kmeans = KMeans(num_clusters)\n",
        "  kmeans.fit(stdf1)\n",
        "  cluster_labels = kmeans.labels_\n",
        "  \n",
        "# silhouette score\n",
        "  silhouette_ann.append(silhouette_score(stdf1, cluster_labels))\n",
        "silhouette_ann"
      ],
      "metadata": {
        "colab": {
          "base_uri": "https://localhost:8080/"
        },
        "id": "8KchPUWeqzJj",
        "outputId": "f2895c88-42b3-43be-9d4f-436824135369"
      },
      "execution_count": 264,
      "outputs": [
        {
          "output_type": "execute_result",
          "data": {
            "text/plain": [
              "[0.917773553767358,\n",
              " 0.8950405803479088,\n",
              " 0.18521621393872822,\n",
              " 0.19262608037798584,\n",
              " 0.1424040509817486,\n",
              " 0.15229245429886723,\n",
              " 0.14855731424297328,\n",
              " 0.1546754390830279]"
            ]
          },
          "metadata": {},
          "execution_count": 264
        }
      ]
    },
    {
      "cell_type": "code",
      "source": [
        "num_clusters\n",
        "Ncluster = range(2,10)\n",
        "Ncluster\n",
        "silhouette_ann"
      ],
      "metadata": {
        "colab": {
          "base_uri": "https://localhost:8080/"
        },
        "id": "nHIL66QEq-FU",
        "outputId": "d0536e31-97dd-4f98-97fd-fb81effccab8"
      },
      "execution_count": 265,
      "outputs": [
        {
          "output_type": "execute_result",
          "data": {
            "text/plain": [
              "[0.917773553767358,\n",
              " 0.8950405803479088,\n",
              " 0.18521621393872822,\n",
              " 0.19262608037798584,\n",
              " 0.1424040509817486,\n",
              " 0.15229245429886723,\n",
              " 0.14855731424297328,\n",
              " 0.1546754390830279]"
            ]
          },
          "metadata": {},
          "execution_count": 265
        }
      ]
    },
    {
      "cell_type": "code",
      "source": [
        "plt.plot(Ncluster,silhouette_ann,marker='s',c='k',lw=2)\n",
        "plt.xlabel('Number of Clusters') \n",
        "plt.ylabel('Silhouette score') \n",
        "plt.title('Silhouette Analysis for Optimal K')\n",
        "plt.show()"
      ],
      "metadata": {
        "colab": {
          "base_uri": "https://localhost:8080/",
          "height": 900
        },
        "id": "e4FKG210rCtu",
        "outputId": "012d575d-755b-4959-a23f-fa0d454210e4"
      },
      "execution_count": 266,
      "outputs": [
        {
          "output_type": "display_data",
          "data": {
            "text/plain": [
              "<Figure size 720x1080 with 1 Axes>"
            ],
            "image/png": "[encoded data removed]"
          },
          "metadata": {
            "needs_background": "light"
          }
        }
      ]
    },
    {
      "cell_type": "code",
      "source": [
        "kmeans = KMeans(n_clusters=5)\n",
        "kmeans.fit(stdf1)\n",
        "print(kmeans)\n",
        "\n",
        "y_kmean = kmeans.predict(stdf1)\n",
        "#result = np.vstack((stdf1,y_kmean))"
      ],
      "metadata": {
        "id": "9xUAtc9BQF-f",
        "outputId": "112ed1be-54b0-4946-9b3a-43339cd5fc65",
        "colab": {
          "base_uri": "https://localhost:8080/"
        }
      },
      "execution_count": 267,
      "outputs": [
        {
          "output_type": "stream",
          "name": "stdout",
          "text": [
            "KMeans(n_clusters=5)\n"
          ]
        }
      ]
    },
    {
      "cell_type": "markdown",
      "source": [
        "https://scikit-learn.org/stable/modules/clustering.html#clustering-performance-evaluation "
      ],
      "metadata": {
        "id": "yylUROzdcOLU"
      }
    },
    {
      "cell_type": "code",
      "source": [
        "from sklearn.preprocessing import StandardScaler\n",
        "scaler = StandardScaler()\n",
        "stdf1 = scaler.fit_transform(df1)\n",
        "print(stdf1)\n",
        "df = pd.DataFrame(stdf1)\n",
        "print(df)\n",
        "df.to_csv('data_standardized', index = False, sep='\\t')\n",
        "df.shape"
      ],
      "metadata": {
        "id": "ydfbxf5DysSB",
        "colab": {
          "base_uri": "https://localhost:8080/"
        },
        "outputId": "63d764e9-697f-4eee-ba86-da938e29d2f1"
      },
      "execution_count": 268,
      "outputs": [
        {
          "output_type": "stream",
          "name": "stdout",
          "text": [
            "[[-0.23443334 -0.17428871 -0.13706685 ... -1.00915699 -0.17979062\n",
            "   0.29606695]\n",
            " [ 0.90417773  0.73302331  0.60333864 ...  1.28709192  1.32279409\n",
            "  -0.41991408]\n",
            " [ 0.39458077  0.24393893  0.10745014 ...  0.59574816 -0.17979062\n",
            "  -0.37218201]\n",
            " ...\n",
            " [-0.52870233 -0.23996081 -0.20076654 ... -0.12028644 -0.17979062\n",
            "  -0.0189647 ]\n",
            " [-0.52078309 -0.25853911 -0.21423921 ... -0.39188578 -0.17979062\n",
            "   0.21492244]\n",
            " [-0.50858997 -0.23780055 -0.21223013 ... -0.8610119  -0.17979062\n",
            "  -0.85904912]]\n",
            "            0         1         2         3         4         5         6   \\\n",
            "0    -0.234433 -0.174289 -0.137067 -0.175792 -0.159143 -0.149947 -0.177752   \n",
            "1     0.904178  0.733023  0.603339  0.738015  0.568744  0.503849  0.695139   \n",
            "2     0.394581  0.243939  0.107450  0.091652 -0.007741  0.503849  0.161705   \n",
            "3    -0.203133  0.023592 -0.017467 -0.024129 -0.089778  0.083552 -0.096929   \n",
            "4     0.176110  0.014951 -0.010377 -0.046137 -0.077106 -0.056547 -0.145423   \n",
            "...        ...       ...       ...       ...       ...       ...       ...   \n",
            "2193 -0.477542 -0.297424 -0.248157 -0.285353 -0.214724 -0.079897 -0.226246   \n",
            "2194 -0.486718 -0.223111 -0.208448 -0.202585 -0.197828 -0.360096 -0.242411   \n",
            "2195 -0.528702 -0.239961 -0.200767 -0.204498 -0.202941 -0.290046 -0.193917   \n",
            "2196 -0.520783 -0.258539 -0.214239 -0.209283 -0.204720 -0.149947 -0.210082   \n",
            "2197 -0.508590 -0.237801 -0.212230 -0.221722 -0.208499 -0.009848 -0.161588   \n",
            "\n",
            "            7         8         9         10        11        12        13  \\\n",
            "0    -0.195320 -0.667201 -0.130394 -0.190684  0.721384 -1.009157 -0.179791   \n",
            "1     0.778451 -0.344679 -0.607190  0.514654 -0.344150  1.287092  1.322794   \n",
            "2     0.002882 -0.465625  0.346401 -0.328685  0.897748  0.595748 -0.179791   \n",
            "3    -0.134997  0.139104  0.452356 -0.267352  0.714036 -0.836321 -0.179791   \n",
            "4    -0.126380  0.058474  0.399378 -0.282685  1.125552 -0.354850 -0.179791   \n",
            "...        ...       ...       ...       ...       ...       ...       ...   \n",
            "2193 -0.264259  0.219735 -0.395281 -0.344019  0.603808 -0.441267 -0.179791   \n",
            "2194 -0.117763  0.703518 -0.236349 -0.328685  1.206386 -0.465958 -0.179791   \n",
            "2195 -0.126380  0.018158 -1.242917 -0.190684  0.074715 -0.120286 -0.179791   \n",
            "2196 -0.203937 -0.586571 -0.978031 -0.328685  1.154946 -0.391886 -0.179791   \n",
            "2197 -0.221172  0.219735 -0.342304 -0.313352  0.750778 -0.861012 -0.179791   \n",
            "\n",
            "            14  \n",
            "0     0.296067  \n",
            "1    -0.419914  \n",
            "2    -0.372182  \n",
            "3     0.124232  \n",
            "4    -0.295811  \n",
            "...        ...  \n",
            "2193 -0.310130  \n",
            "2194  0.143324  \n",
            "2195 -0.018965  \n",
            "2196  0.214922  \n",
            "2197 -0.859049  \n",
            "\n",
            "[2198 rows x 15 columns]\n"
          ]
        },
        {
          "output_type": "execute_result",
          "data": {
            "text/plain": [
              "(2198, 15)"
            ]
          },
          "metadata": {},
          "execution_count": 268
        }
      ]
    }
  ]
}